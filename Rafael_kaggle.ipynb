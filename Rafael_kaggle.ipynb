{
  "nbformat": 4,
  "nbformat_minor": 0,
  "metadata": {
    "kernelspec": {
      "display_name": "Python 3",
      "language": "python",
      "name": "python3"
    },
    "language_info": {
      "codemirror_mode": {
        "name": "ipython",
        "version": 3
      },
      "file_extension": ".py",
      "mimetype": "text/x-python",
      "name": "python",
      "nbconvert_exporter": "python",
      "pygments_lexer": "ipython3",
      "version": "3.8.5"
    },
    "colab": {
      "name": "Rafael_kaggle.ipynb",
      "provenance": [],
      "include_colab_link": true
    }
  },
  "cells": [
    {
      "cell_type": "markdown",
      "metadata": {
        "id": "view-in-github",
        "colab_type": "text"
      },
      "source": [
        "<a href=\"https://colab.research.google.com/github/rafaborneo/kaggle-competition/blob/main/Rafael_kaggle.ipynb\" target=\"_parent\"><img src=\"https://colab.research.google.com/assets/colab-badge.svg\" alt=\"Open In Colab\"/></a>"
      ]
    },
    {
      "cell_type": "markdown",
      "metadata": {
        "id": "ragO-NMtOQ0K"
      },
      "source": [
        "# Diplodatos Kaggle Competition"
      ]
    },
    {
      "cell_type": "markdown",
      "metadata": {
        "id": "cLlCmL3JOQ0Q"
      },
      "source": [
        "We present this peace of code to create the baseline for the competition, and as an example of how to deal with these kind of problems. The main goals are that you:\n",
        "\n",
        "1. Explore the data and learn from it\n",
        "1. Try different models and see which one fits the best the given data\n",
        "1. Get a higher score than the given one in the current baseline example\n",
        "1. Try to get the highest score in the class :)"
      ]
    },
    {
      "cell_type": "code",
      "metadata": {
        "id": "Vj1SoLOCOQ0T"
      },
      "source": [
        "# Import the required packages\n",
        "import os\n",
        "\n",
        "import numpy as np\n",
        "import pandas as pd\n",
        "import matplotlib.pyplot as plt"
      ],
      "execution_count": null,
      "outputs": []
    },
    {
      "cell_type": "markdown",
      "metadata": {
        "id": "wQIVvkpMOQ0V"
      },
      "source": [
        "## Read Data"
      ]
    },
    {
      "cell_type": "code",
      "metadata": {
        "id": "oth8uDrJOQ0X"
      },
      "source": [
        "train_df = pd.read_csv(\"travel_insurance_prediction_train.csv\")\n",
        "test_df = pd.read_csv(\"travel_insurance_prediction_test.csv\")"
      ],
      "execution_count": null,
      "outputs": []
    },
    {
      "cell_type": "markdown",
      "metadata": {
        "id": "XKn0kcPsOQ0X"
      },
      "source": [
        "## Explore the Data\n",
        "\n",
        "Is your task to explore the data, do analysis over it and get insights, then use those insights to better pick a model."
      ]
    },
    {
      "cell_type": "code",
      "metadata": {
        "id": "lXm_ZDLaOQ0Z",
        "colab": {
          "base_uri": "https://localhost:8080/",
          "height": 204
        },
        "outputId": "bc7ee6d4-0f4c-445e-fa3c-668f8c8157c9"
      },
      "source": [
        "train_df.head()"
      ],
      "execution_count": null,
      "outputs": [
        {
          "output_type": "execute_result",
          "data": {
            "text/html": [
              "<div>\n",
              "<style scoped>\n",
              "    .dataframe tbody tr th:only-of-type {\n",
              "        vertical-align: middle;\n",
              "    }\n",
              "\n",
              "    .dataframe tbody tr th {\n",
              "        vertical-align: top;\n",
              "    }\n",
              "\n",
              "    .dataframe thead th {\n",
              "        text-align: right;\n",
              "    }\n",
              "</style>\n",
              "<table border=\"1\" class=\"dataframe\">\n",
              "  <thead>\n",
              "    <tr style=\"text-align: right;\">\n",
              "      <th></th>\n",
              "      <th>Customer</th>\n",
              "      <th>Age</th>\n",
              "      <th>Employment Type</th>\n",
              "      <th>GraduateOrNot</th>\n",
              "      <th>AnnualIncome</th>\n",
              "      <th>FamilyMembers</th>\n",
              "      <th>ChronicDiseases</th>\n",
              "      <th>FrequentFlyer</th>\n",
              "      <th>EverTravelledAbroad</th>\n",
              "      <th>TravelInsurance</th>\n",
              "    </tr>\n",
              "  </thead>\n",
              "  <tbody>\n",
              "    <tr>\n",
              "      <th>0</th>\n",
              "      <td>1</td>\n",
              "      <td>33</td>\n",
              "      <td>Private Sector/Self Employed</td>\n",
              "      <td>Yes</td>\n",
              "      <td>550000</td>\n",
              "      <td>6</td>\n",
              "      <td>0</td>\n",
              "      <td>No</td>\n",
              "      <td>No</td>\n",
              "      <td>1</td>\n",
              "    </tr>\n",
              "    <tr>\n",
              "      <th>1</th>\n",
              "      <td>2</td>\n",
              "      <td>28</td>\n",
              "      <td>Private Sector/Self Employed</td>\n",
              "      <td>Yes</td>\n",
              "      <td>800000</td>\n",
              "      <td>7</td>\n",
              "      <td>0</td>\n",
              "      <td>Yes</td>\n",
              "      <td>No</td>\n",
              "      <td>0</td>\n",
              "    </tr>\n",
              "    <tr>\n",
              "      <th>2</th>\n",
              "      <td>3</td>\n",
              "      <td>31</td>\n",
              "      <td>Private Sector/Self Employed</td>\n",
              "      <td>Yes</td>\n",
              "      <td>1250000</td>\n",
              "      <td>4</td>\n",
              "      <td>0</td>\n",
              "      <td>No</td>\n",
              "      <td>No</td>\n",
              "      <td>0</td>\n",
              "    </tr>\n",
              "    <tr>\n",
              "      <th>3</th>\n",
              "      <td>4</td>\n",
              "      <td>31</td>\n",
              "      <td>Government Sector</td>\n",
              "      <td>No</td>\n",
              "      <td>300000</td>\n",
              "      <td>7</td>\n",
              "      <td>0</td>\n",
              "      <td>No</td>\n",
              "      <td>No</td>\n",
              "      <td>0</td>\n",
              "    </tr>\n",
              "    <tr>\n",
              "      <th>4</th>\n",
              "      <td>5</td>\n",
              "      <td>28</td>\n",
              "      <td>Private Sector/Self Employed</td>\n",
              "      <td>Yes</td>\n",
              "      <td>1250000</td>\n",
              "      <td>3</td>\n",
              "      <td>0</td>\n",
              "      <td>No</td>\n",
              "      <td>No</td>\n",
              "      <td>0</td>\n",
              "    </tr>\n",
              "  </tbody>\n",
              "</table>\n",
              "</div>"
            ],
            "text/plain": [
              "   Customer  Age  ... EverTravelledAbroad TravelInsurance\n",
              "0         1   33  ...                  No               1\n",
              "1         2   28  ...                  No               0\n",
              "2         3   31  ...                  No               0\n",
              "3         4   31  ...                  No               0\n",
              "4         5   28  ...                  No               0\n",
              "\n",
              "[5 rows x 10 columns]"
            ]
          },
          "metadata": {},
          "execution_count": 39
        }
      ]
    },
    {
      "cell_type": "code",
      "metadata": {
        "id": "qBd6lrC1OQ0b",
        "colab": {
          "base_uri": "https://localhost:8080/",
          "height": 204
        },
        "outputId": "9684364b-066d-4c52-99f0-d58926dd6ece"
      },
      "source": [
        "test_df.head()"
      ],
      "execution_count": null,
      "outputs": [
        {
          "output_type": "execute_result",
          "data": {
            "text/html": [
              "<div>\n",
              "<style scoped>\n",
              "    .dataframe tbody tr th:only-of-type {\n",
              "        vertical-align: middle;\n",
              "    }\n",
              "\n",
              "    .dataframe tbody tr th {\n",
              "        vertical-align: top;\n",
              "    }\n",
              "\n",
              "    .dataframe thead th {\n",
              "        text-align: right;\n",
              "    }\n",
              "</style>\n",
              "<table border=\"1\" class=\"dataframe\">\n",
              "  <thead>\n",
              "    <tr style=\"text-align: right;\">\n",
              "      <th></th>\n",
              "      <th>Customer</th>\n",
              "      <th>Age</th>\n",
              "      <th>Employment Type</th>\n",
              "      <th>GraduateOrNot</th>\n",
              "      <th>AnnualIncome</th>\n",
              "      <th>FamilyMembers</th>\n",
              "      <th>ChronicDiseases</th>\n",
              "      <th>FrequentFlyer</th>\n",
              "      <th>EverTravelledAbroad</th>\n",
              "    </tr>\n",
              "  </thead>\n",
              "  <tbody>\n",
              "    <tr>\n",
              "      <th>0</th>\n",
              "      <td>1491</td>\n",
              "      <td>29</td>\n",
              "      <td>Private Sector/Self Employed</td>\n",
              "      <td>Yes</td>\n",
              "      <td>1100000</td>\n",
              "      <td>4</td>\n",
              "      <td>0</td>\n",
              "      <td>No</td>\n",
              "      <td>No</td>\n",
              "    </tr>\n",
              "    <tr>\n",
              "      <th>1</th>\n",
              "      <td>1492</td>\n",
              "      <td>28</td>\n",
              "      <td>Private Sector/Self Employed</td>\n",
              "      <td>Yes</td>\n",
              "      <td>750000</td>\n",
              "      <td>5</td>\n",
              "      <td>1</td>\n",
              "      <td>Yes</td>\n",
              "      <td>No</td>\n",
              "    </tr>\n",
              "    <tr>\n",
              "      <th>2</th>\n",
              "      <td>1493</td>\n",
              "      <td>31</td>\n",
              "      <td>Government Sector</td>\n",
              "      <td>Yes</td>\n",
              "      <td>1500000</td>\n",
              "      <td>4</td>\n",
              "      <td>0</td>\n",
              "      <td>Yes</td>\n",
              "      <td>Yes</td>\n",
              "    </tr>\n",
              "    <tr>\n",
              "      <th>3</th>\n",
              "      <td>1494</td>\n",
              "      <td>28</td>\n",
              "      <td>Private Sector/Self Employed</td>\n",
              "      <td>Yes</td>\n",
              "      <td>1400000</td>\n",
              "      <td>3</td>\n",
              "      <td>0</td>\n",
              "      <td>No</td>\n",
              "      <td>Yes</td>\n",
              "    </tr>\n",
              "    <tr>\n",
              "      <th>4</th>\n",
              "      <td>1495</td>\n",
              "      <td>33</td>\n",
              "      <td>Private Sector/Self Employed</td>\n",
              "      <td>Yes</td>\n",
              "      <td>1500000</td>\n",
              "      <td>4</td>\n",
              "      <td>0</td>\n",
              "      <td>Yes</td>\n",
              "      <td>Yes</td>\n",
              "    </tr>\n",
              "  </tbody>\n",
              "</table>\n",
              "</div>"
            ],
            "text/plain": [
              "   Customer  Age  ... FrequentFlyer EverTravelledAbroad\n",
              "0      1491   29  ...            No                  No\n",
              "1      1492   28  ...           Yes                  No\n",
              "2      1493   31  ...           Yes                 Yes\n",
              "3      1494   28  ...            No                 Yes\n",
              "4      1495   33  ...           Yes                 Yes\n",
              "\n",
              "[5 rows x 9 columns]"
            ]
          },
          "metadata": {},
          "execution_count": 40
        }
      ]
    },
    {
      "cell_type": "markdown",
      "metadata": {
        "id": "ra-pYdnfOQ0d"
      },
      "source": [
        "**TravelInsurance** is the column that we should predict. That column is not present in the test set."
      ]
    },
    {
      "cell_type": "code",
      "metadata": {
        "id": "jKRm-bxCOQ0f",
        "colab": {
          "base_uri": "https://localhost:8080/"
        },
        "outputId": "50e33915-f79a-4a8a-8d19-97576f005d12"
      },
      "source": [
        "train_df.info()"
      ],
      "execution_count": null,
      "outputs": [
        {
          "output_type": "stream",
          "text": [
            "<class 'pandas.core.frame.DataFrame'>\n",
            "RangeIndex: 1490 entries, 0 to 1489\n",
            "Data columns (total 10 columns):\n",
            " #   Column               Non-Null Count  Dtype \n",
            "---  ------               --------------  ----- \n",
            " 0   Customer             1490 non-null   int64 \n",
            " 1   Age                  1490 non-null   int64 \n",
            " 2   Employment Type      1490 non-null   object\n",
            " 3   GraduateOrNot        1490 non-null   object\n",
            " 4   AnnualIncome         1490 non-null   int64 \n",
            " 5   FamilyMembers        1490 non-null   int64 \n",
            " 6   ChronicDiseases      1490 non-null   int64 \n",
            " 7   FrequentFlyer        1490 non-null   object\n",
            " 8   EverTravelledAbroad  1490 non-null   object\n",
            " 9   TravelInsurance      1490 non-null   int64 \n",
            "dtypes: int64(6), object(4)\n",
            "memory usage: 116.5+ KB\n"
          ],
          "name": "stdout"
        }
      ]
    },
    {
      "cell_type": "code",
      "metadata": {
        "id": "mfsVesZQOQ0g",
        "colab": {
          "base_uri": "https://localhost:8080/"
        },
        "outputId": "c40a82d5-328e-4a0b-e992-3e07f0631508"
      },
      "source": [
        "test_df.info()"
      ],
      "execution_count": null,
      "outputs": [
        {
          "output_type": "stream",
          "text": [
            "<class 'pandas.core.frame.DataFrame'>\n",
            "RangeIndex: 497 entries, 0 to 496\n",
            "Data columns (total 9 columns):\n",
            " #   Column               Non-Null Count  Dtype \n",
            "---  ------               --------------  ----- \n",
            " 0   Customer             497 non-null    int64 \n",
            " 1   Age                  497 non-null    int64 \n",
            " 2   Employment Type      497 non-null    object\n",
            " 3   GraduateOrNot        497 non-null    object\n",
            " 4   AnnualIncome         497 non-null    int64 \n",
            " 5   FamilyMembers        497 non-null    int64 \n",
            " 6   ChronicDiseases      497 non-null    int64 \n",
            " 7   FrequentFlyer        497 non-null    object\n",
            " 8   EverTravelledAbroad  497 non-null    object\n",
            "dtypes: int64(5), object(4)\n",
            "memory usage: 35.1+ KB\n"
          ],
          "name": "stdout"
        }
      ]
    },
    {
      "cell_type": "code",
      "metadata": {
        "id": "-y8K1UIwOQ0h",
        "colab": {
          "base_uri": "https://localhost:8080/",
          "height": 297
        },
        "outputId": "4c7337f8-9eb6-46b0-be3b-17eaa9926c92"
      },
      "source": [
        "train_df.describe()"
      ],
      "execution_count": null,
      "outputs": [
        {
          "output_type": "execute_result",
          "data": {
            "text/html": [
              "<div>\n",
              "<style scoped>\n",
              "    .dataframe tbody tr th:only-of-type {\n",
              "        vertical-align: middle;\n",
              "    }\n",
              "\n",
              "    .dataframe tbody tr th {\n",
              "        vertical-align: top;\n",
              "    }\n",
              "\n",
              "    .dataframe thead th {\n",
              "        text-align: right;\n",
              "    }\n",
              "</style>\n",
              "<table border=\"1\" class=\"dataframe\">\n",
              "  <thead>\n",
              "    <tr style=\"text-align: right;\">\n",
              "      <th></th>\n",
              "      <th>Customer</th>\n",
              "      <th>Age</th>\n",
              "      <th>AnnualIncome</th>\n",
              "      <th>FamilyMembers</th>\n",
              "      <th>ChronicDiseases</th>\n",
              "      <th>TravelInsurance</th>\n",
              "    </tr>\n",
              "  </thead>\n",
              "  <tbody>\n",
              "    <tr>\n",
              "      <th>count</th>\n",
              "      <td>1490.000000</td>\n",
              "      <td>1490.000000</td>\n",
              "      <td>1.490000e+03</td>\n",
              "      <td>1490.000000</td>\n",
              "      <td>1490.000000</td>\n",
              "      <td>1490.000000</td>\n",
              "    </tr>\n",
              "    <tr>\n",
              "      <th>mean</th>\n",
              "      <td>745.500000</td>\n",
              "      <td>29.667114</td>\n",
              "      <td>9.278188e+05</td>\n",
              "      <td>4.777181</td>\n",
              "      <td>0.275839</td>\n",
              "      <td>0.357047</td>\n",
              "    </tr>\n",
              "    <tr>\n",
              "      <th>std</th>\n",
              "      <td>430.270264</td>\n",
              "      <td>2.880994</td>\n",
              "      <td>3.811715e+05</td>\n",
              "      <td>1.640248</td>\n",
              "      <td>0.447086</td>\n",
              "      <td>0.479290</td>\n",
              "    </tr>\n",
              "    <tr>\n",
              "      <th>min</th>\n",
              "      <td>1.000000</td>\n",
              "      <td>25.000000</td>\n",
              "      <td>3.000000e+05</td>\n",
              "      <td>2.000000</td>\n",
              "      <td>0.000000</td>\n",
              "      <td>0.000000</td>\n",
              "    </tr>\n",
              "    <tr>\n",
              "      <th>25%</th>\n",
              "      <td>373.250000</td>\n",
              "      <td>28.000000</td>\n",
              "      <td>6.000000e+05</td>\n",
              "      <td>4.000000</td>\n",
              "      <td>0.000000</td>\n",
              "      <td>0.000000</td>\n",
              "    </tr>\n",
              "    <tr>\n",
              "      <th>50%</th>\n",
              "      <td>745.500000</td>\n",
              "      <td>29.000000</td>\n",
              "      <td>9.000000e+05</td>\n",
              "      <td>5.000000</td>\n",
              "      <td>0.000000</td>\n",
              "      <td>0.000000</td>\n",
              "    </tr>\n",
              "    <tr>\n",
              "      <th>75%</th>\n",
              "      <td>1117.750000</td>\n",
              "      <td>32.000000</td>\n",
              "      <td>1.250000e+06</td>\n",
              "      <td>6.000000</td>\n",
              "      <td>1.000000</td>\n",
              "      <td>1.000000</td>\n",
              "    </tr>\n",
              "    <tr>\n",
              "      <th>max</th>\n",
              "      <td>1490.000000</td>\n",
              "      <td>35.000000</td>\n",
              "      <td>1.800000e+06</td>\n",
              "      <td>9.000000</td>\n",
              "      <td>1.000000</td>\n",
              "      <td>1.000000</td>\n",
              "    </tr>\n",
              "  </tbody>\n",
              "</table>\n",
              "</div>"
            ],
            "text/plain": [
              "          Customer          Age  ...  ChronicDiseases  TravelInsurance\n",
              "count  1490.000000  1490.000000  ...      1490.000000      1490.000000\n",
              "mean    745.500000    29.667114  ...         0.275839         0.357047\n",
              "std     430.270264     2.880994  ...         0.447086         0.479290\n",
              "min       1.000000    25.000000  ...         0.000000         0.000000\n",
              "25%     373.250000    28.000000  ...         0.000000         0.000000\n",
              "50%     745.500000    29.000000  ...         0.000000         0.000000\n",
              "75%    1117.750000    32.000000  ...         1.000000         1.000000\n",
              "max    1490.000000    35.000000  ...         1.000000         1.000000\n",
              "\n",
              "[8 rows x 6 columns]"
            ]
          },
          "metadata": {},
          "execution_count": 43
        }
      ]
    },
    {
      "cell_type": "code",
      "metadata": {
        "id": "1wVkre_JOQ0i",
        "colab": {
          "base_uri": "https://localhost:8080/",
          "height": 297
        },
        "outputId": "7cd4ce64-c38e-41f9-e82b-9d24d12799df"
      },
      "source": [
        "test_df.describe()"
      ],
      "execution_count": null,
      "outputs": [
        {
          "output_type": "execute_result",
          "data": {
            "text/html": [
              "<div>\n",
              "<style scoped>\n",
              "    .dataframe tbody tr th:only-of-type {\n",
              "        vertical-align: middle;\n",
              "    }\n",
              "\n",
              "    .dataframe tbody tr th {\n",
              "        vertical-align: top;\n",
              "    }\n",
              "\n",
              "    .dataframe thead th {\n",
              "        text-align: right;\n",
              "    }\n",
              "</style>\n",
              "<table border=\"1\" class=\"dataframe\">\n",
              "  <thead>\n",
              "    <tr style=\"text-align: right;\">\n",
              "      <th></th>\n",
              "      <th>Customer</th>\n",
              "      <th>Age</th>\n",
              "      <th>AnnualIncome</th>\n",
              "      <th>FamilyMembers</th>\n",
              "      <th>ChronicDiseases</th>\n",
              "    </tr>\n",
              "  </thead>\n",
              "  <tbody>\n",
              "    <tr>\n",
              "      <th>count</th>\n",
              "      <td>497.000000</td>\n",
              "      <td>497.000000</td>\n",
              "      <td>4.970000e+02</td>\n",
              "      <td>497.00000</td>\n",
              "      <td>497.000000</td>\n",
              "    </tr>\n",
              "    <tr>\n",
              "      <th>mean</th>\n",
              "      <td>1739.000000</td>\n",
              "      <td>29.599598</td>\n",
              "      <td>9.475855e+05</td>\n",
              "      <td>4.68008</td>\n",
              "      <td>0.283702</td>\n",
              "    </tr>\n",
              "    <tr>\n",
              "      <th>std</th>\n",
              "      <td>143.615807</td>\n",
              "      <td>3.010506</td>\n",
              "      <td>3.635818e+05</td>\n",
              "      <td>1.51347</td>\n",
              "      <td>0.451248</td>\n",
              "    </tr>\n",
              "    <tr>\n",
              "      <th>min</th>\n",
              "      <td>1491.000000</td>\n",
              "      <td>25.000000</td>\n",
              "      <td>3.000000e+05</td>\n",
              "      <td>2.00000</td>\n",
              "      <td>0.000000</td>\n",
              "    </tr>\n",
              "    <tr>\n",
              "      <th>25%</th>\n",
              "      <td>1615.000000</td>\n",
              "      <td>28.000000</td>\n",
              "      <td>6.500000e+05</td>\n",
              "      <td>4.00000</td>\n",
              "      <td>0.000000</td>\n",
              "    </tr>\n",
              "    <tr>\n",
              "      <th>50%</th>\n",
              "      <td>1739.000000</td>\n",
              "      <td>29.000000</td>\n",
              "      <td>9.500000e+05</td>\n",
              "      <td>4.00000</td>\n",
              "      <td>0.000000</td>\n",
              "    </tr>\n",
              "    <tr>\n",
              "      <th>75%</th>\n",
              "      <td>1863.000000</td>\n",
              "      <td>32.000000</td>\n",
              "      <td>1.250000e+06</td>\n",
              "      <td>6.00000</td>\n",
              "      <td>1.000000</td>\n",
              "    </tr>\n",
              "    <tr>\n",
              "      <th>max</th>\n",
              "      <td>1987.000000</td>\n",
              "      <td>35.000000</td>\n",
              "      <td>1.750000e+06</td>\n",
              "      <td>9.00000</td>\n",
              "      <td>1.000000</td>\n",
              "    </tr>\n",
              "  </tbody>\n",
              "</table>\n",
              "</div>"
            ],
            "text/plain": [
              "          Customer         Age  AnnualIncome  FamilyMembers  ChronicDiseases\n",
              "count   497.000000  497.000000  4.970000e+02      497.00000       497.000000\n",
              "mean   1739.000000   29.599598  9.475855e+05        4.68008         0.283702\n",
              "std     143.615807    3.010506  3.635818e+05        1.51347         0.451248\n",
              "min    1491.000000   25.000000  3.000000e+05        2.00000         0.000000\n",
              "25%    1615.000000   28.000000  6.500000e+05        4.00000         0.000000\n",
              "50%    1739.000000   29.000000  9.500000e+05        4.00000         0.000000\n",
              "75%    1863.000000   32.000000  1.250000e+06        6.00000         1.000000\n",
              "max    1987.000000   35.000000  1.750000e+06        9.00000         1.000000"
            ]
          },
          "metadata": {},
          "execution_count": 44
        }
      ]
    },
    {
      "cell_type": "markdown",
      "metadata": {
        "id": "byAACN1eOQ0i"
      },
      "source": [
        "## Baseline\n",
        "\n",
        "In this section we present a baseline based on a decision tree classifier.\n",
        "\n",
        "Many of the attributes are binary, there are a couple of numeric attributes, we might be able to one-hot (e.g. family members), or event discretize (age and anual income), this will come more clearly after the EDA."
      ]
    },
    {
      "cell_type": "code",
      "metadata": {
        "id": "uaaXXBdKOQ0j"
      },
      "source": [
        "from sklearn.compose import make_column_transformer\n",
        "from sklearn.metrics import classification_report\n",
        "from sklearn.model_selection import GridSearchCV\n",
        "from sklearn.preprocessing import KBinsDiscretizer, OneHotEncoder\n",
        "from sklearn.tree import DecisionTreeClassifier\n",
        "from sklearn.linear_model import LogisticRegression"
      ],
      "execution_count": null,
      "outputs": []
    },
    {
      "cell_type": "markdown",
      "metadata": {
        "id": "JkB-1nbNOQ0k"
      },
      "source": [
        "### Transform the columns into features\n",
        "\n",
        "First we need to transform the columns into features. The type of features we use will have a direct impact on the final result. In this example we decided to discretize some numeric features and make a one hot encoding of others. The number of bins, what we use as a one hot encoding, etc, is all up to you to try it out."
      ]
    },
    {
      "cell_type": "code",
      "metadata": {
        "id": "lCGHffJpOQ0k"
      },
      "source": [
        "transformer = make_column_transformer(\n",
        "    (KBinsDiscretizer(n_bins=5, encode=\"ordinal\", strategy=\"quantile\"), [\"Age\", \"AnnualIncome\"]),\n",
        "    (OneHotEncoder(categories=\"auto\", dtype=\"int\", handle_unknown=\"ignore\"),\n",
        "     [\"Employment Type\", \"GraduateOrNot\", \"FamilyMembers\", \"FrequentFlyer\", \"EverTravelledAbroad\"]),\n",
        "    remainder=\"passthrough\")"
      ],
      "execution_count": null,
      "outputs": []
    },
    {
      "cell_type": "markdown",
      "metadata": {
        "id": "uQoyMZjbOQ0l"
      },
      "source": [
        "We transform the train and test data. In order to avoid overfitting is better to remove the `Customer` column and we don't want the `TravelInsurance` column as part of the attributes either."
      ]
    },
    {
      "cell_type": "code",
      "metadata": {
        "id": "z3wgAzejOQ0l",
        "colab": {
          "base_uri": "https://localhost:8080/"
        },
        "outputId": "3a0314c1-ec06-4bcb-c354-5533403330d1"
      },
      "source": [
        "# The data for training the model\n",
        "X_train = transformer.fit_transform(train_df.drop(columns=[\"Customer\", \"TravelInsurance\"]))\n",
        "y_train = train_df[\"TravelInsurance\"].values\n",
        "\n",
        "# The test data is only for generating the submission\n",
        "X_test = transformer.transform(test_df.drop(columns=[\"Customer\"]))\n",
        "print(X_train.shape)\n",
        "print(y_train.shape)\n",
        "print(X_test.shape)"
      ],
      "execution_count": null,
      "outputs": [
        {
          "output_type": "stream",
          "text": [
            "(1490, 19)\n",
            "(1490,)\n",
            "(497, 19)\n"
          ],
          "name": "stdout"
        }
      ]
    },
    {
      "cell_type": "code",
      "metadata": {
        "id": "PDnduk8MPPKP",
        "colab": {
          "base_uri": "https://localhost:8080/"
        },
        "outputId": "5163e6a4-5195-41f9-8eec-e7288c16794b"
      },
      "source": [
        "from sklearn.model_selection import train_test_split\n",
        "X_train, X_valid, y_train, y_valid = train_test_split(X_train,y_train,random_state=0,train_size=0.8)\n",
        "\n",
        "print(X_train.shape)\n",
        "print(y_train.shape)\n",
        "\n",
        "print(X_valid.shape)\n",
        "print(y_valid.shape)"
      ],
      "execution_count": null,
      "outputs": [
        {
          "output_type": "stream",
          "text": [
            "(1192, 19)\n",
            "(1192,)\n",
            "(298, 19)\n",
            "(298,)\n"
          ],
          "name": "stdout"
        }
      ]
    },
    {
      "cell_type": "code",
      "metadata": {
        "id": "PdZkK7-iPPKR"
      },
      "source": [
        "from sklearn.tree import DecisionTreeClassifier\n",
        "search_params_decis_tree = {\n",
        "    'criterion': ['gini', 'entropy'],\n",
        "    'min_samples_leaf': [1, 2, 5],\n",
        "    'max_depth': [3, 6, 10, 15, 20]\n",
        "}\n",
        "model_decis_tree = DecisionTreeClassifier(random_state=42)\n",
        "\n"
      ],
      "execution_count": null,
      "outputs": []
    },
    {
      "cell_type": "code",
      "metadata": {
        "id": "owqnSPVoPPKR",
        "colab": {
          "base_uri": "https://localhost:8080/"
        },
        "outputId": "59e805c2-cdec-4b68-ee71-6f9b702d4382"
      },
      "source": [
        "grid_decis_tree = GridSearchCV(model_decis_tree, search_params_decis_tree, cv=5, scoring='f1', n_jobs=-1)\n",
        "grid_decis_tree.fit(X_train, y_train)\n",
        "\n",
        "best_decis_tree = grid_decis_tree.best_estimator_\n",
        "best_decis_tree"
      ],
      "execution_count": null,
      "outputs": [
        {
          "output_type": "execute_result",
          "data": {
            "text/plain": [
              "DecisionTreeClassifier(ccp_alpha=0.0, class_weight=None, criterion='gini',\n",
              "                       max_depth=15, max_features=None, max_leaf_nodes=None,\n",
              "                       min_impurity_decrease=0.0, min_impurity_split=None,\n",
              "                       min_samples_leaf=5, min_samples_split=2,\n",
              "                       min_weight_fraction_leaf=0.0, presort='deprecated',\n",
              "                       random_state=42, splitter='best')"
            ]
          },
          "metadata": {},
          "execution_count": 50
        }
      ]
    },
    {
      "cell_type": "code",
      "metadata": {
        "id": "uid5S9fqPPKS",
        "colab": {
          "base_uri": "https://localhost:8080/"
        },
        "outputId": "ef19aaf1-a10e-4225-bf24-8988756a3d9c"
      },
      "source": [
        "print('DecisionTreeClassifier\\n')\n",
        "print(classification_report(y_train, best_decis_tree.predict(X_train)))"
      ],
      "execution_count": null,
      "outputs": [
        {
          "output_type": "stream",
          "text": [
            "DecisionTreeClassifier\n",
            "\n",
            "              precision    recall  f1-score   support\n",
            "\n",
            "           0       0.85      0.93      0.89       766\n",
            "           1       0.85      0.69      0.76       426\n",
            "\n",
            "    accuracy                           0.85      1192\n",
            "   macro avg       0.85      0.81      0.83      1192\n",
            "weighted avg       0.85      0.85      0.84      1192\n",
            "\n"
          ],
          "name": "stdout"
        }
      ]
    },
    {
      "cell_type": "code",
      "metadata": {
        "id": "Wgsv90KvRI0Q"
      },
      "source": [
        ""
      ],
      "execution_count": null,
      "outputs": []
    },
    {
      "cell_type": "code",
      "metadata": {
        "id": "U3qZu7GYPPKT",
        "colab": {
          "base_uri": "https://localhost:8080/"
        },
        "outputId": "682d325f-dc38-4a4c-d2be-2c90d9d9c192"
      },
      "source": [
        "print('DecisionTreeClassifier: validation\\n')\n",
        "print(classification_report(y_valid, best_decis_tree.predict(X_valid)))"
      ],
      "execution_count": null,
      "outputs": [
        {
          "output_type": "stream",
          "text": [
            "DecisionTreeClassifier: validation\n",
            "\n",
            "              precision    recall  f1-score   support\n",
            "\n",
            "           0       0.82      0.90      0.86       192\n",
            "           1       0.78      0.65      0.71       106\n",
            "\n",
            "    accuracy                           0.81       298\n",
            "   macro avg       0.80      0.77      0.78       298\n",
            "weighted avg       0.81      0.81      0.80       298\n",
            "\n"
          ],
          "name": "stdout"
        }
      ]
    },
    {
      "cell_type": "code",
      "metadata": {
        "id": "feT-YHEdRIn2"
      },
      "source": [
        ""
      ],
      "execution_count": null,
      "outputs": []
    },
    {
      "cell_type": "markdown",
      "metadata": {
        "id": "5KHgpt8fU4RZ"
      },
      "source": [
        "# **NUEVO MODELO**\n",
        "\n",
        "```\n",
        "ADABOOST\n",
        "```\n",
        "\n"
      ]
    },
    {
      "cell_type": "code",
      "metadata": {
        "colab": {
          "base_uri": "https://localhost:8080/"
        },
        "id": "qX1QQVXiYpsO",
        "outputId": "d1f5b395-ae01-451f-db72-0f7a21408eef"
      },
      "source": [
        "from sklearn.ensemble import AdaBoostClassifier\n",
        "\n",
        "search_params_AdaBoost = {\n",
        "    'n_estimators':[5,10,20,30],\n",
        "    'learning_rate':[1.0,5.0,10.0,20.0]\n",
        "}\n",
        "\n",
        "model_AdaBoost = AdaBoostClassifier(random_state=42)\n",
        "grid_AdaBoost = GridSearchCV(model_AdaBoost, search_params_AdaBoost, cv=5, scoring='f1', n_jobs=-1)\n",
        "\n",
        "grid_AdaBoost.fit(X_train, y_train)\n",
        "best_AdaBoost = grid_AdaBoost.best_estimator_\n",
        "best_AdaBoost\n"
      ],
      "execution_count": null,
      "outputs": [
        {
          "output_type": "execute_result",
          "data": {
            "text/plain": [
              "AdaBoostClassifier(algorithm='SAMME.R', base_estimator=None, learning_rate=1.0,\n",
              "                   n_estimators=20, random_state=42)"
            ]
          },
          "metadata": {},
          "execution_count": 53
        }
      ]
    },
    {
      "cell_type": "code",
      "metadata": {
        "colab": {
          "base_uri": "https://localhost:8080/"
        },
        "id": "6IdE-kwoVAeD",
        "outputId": "471e40a6-f657-4987-b372-4fe6652b51c1"
      },
      "source": [
        "print('AdaBoostClassifier\\n')\n",
        "print(classification_report(y_train, grid_AdaBoost.predict(X_train)))"
      ],
      "execution_count": null,
      "outputs": [
        {
          "output_type": "stream",
          "text": [
            "AdaBoostClassifier\n",
            "\n",
            "              precision    recall  f1-score   support\n",
            "\n",
            "           0       0.77      0.93      0.84       766\n",
            "           1       0.79      0.51      0.62       426\n",
            "\n",
            "    accuracy                           0.78      1192\n",
            "   macro avg       0.78      0.72      0.73      1192\n",
            "weighted avg       0.78      0.78      0.76      1192\n",
            "\n"
          ],
          "name": "stdout"
        }
      ]
    },
    {
      "cell_type": "markdown",
      "metadata": {
        "id": "2KOTwzgBmw9m"
      },
      "source": [
        "# LOGISTIC **REGRESSION**"
      ]
    },
    {
      "cell_type": "code",
      "metadata": {
        "id": "VP8cxwyeVAYU"
      },
      "source": [
        "from sklearn.linear_model import LogisticRegression"
      ],
      "execution_count": null,
      "outputs": []
    },
    {
      "cell_type": "code",
      "metadata": {
        "id": "TIm8jZz1VAW6"
      },
      "source": [
        "cLoR = LogisticRegression(solver = 'liblinear', random_state = 0).fit(X_train, y_train)"
      ],
      "execution_count": null,
      "outputs": []
    },
    {
      "cell_type": "code",
      "metadata": {
        "id": "J6HhwTFipdKF"
      },
      "source": [
        "print('Logistic regression\\n')\n",
        "print(classification_report(y_train, cLoR.predict(X_train)))"
      ],
      "execution_count": null,
      "outputs": []
    },
    {
      "cell_type": "code",
      "metadata": {
        "colab": {
          "base_uri": "https://localhost:8080/"
        },
        "id": "RaGccvNUuxvC",
        "outputId": "e104305d-6cc0-457b-8a93-640169d5c89f"
      },
      "source": [
        "from sklearn.model_selection import GridSearchCV\n",
        "from sklearn.linear_model import LogisticRegression\n",
        "grid={\"C\":[0.001, 0.01, 0.1, 1, 10, 100, 1000], \"penalty\":[\"l1\",\"l2\"]}# l1 lasso l2 ridge\n",
        "logreg=LogisticRegression()\n",
        "logreg_cv=GridSearchCV(logreg,grid,cv=10)\n",
        "logreg_cv.fit(X_train,y_train)\n",
        "\n",
        "print(\"tuned hpyerparameters :(best parameters) \",logreg_cv.best_params_)\n",
        "print(\"accuracy :\",logreg_cv.best_score_)"
      ],
      "execution_count": null,
      "outputs": [
        {
          "output_type": "stream",
          "text": [
            "/usr/local/lib/python3.7/dist-packages/sklearn/model_selection/_validation.py:536: FitFailedWarning: Estimator fit failed. The score on this train-test partition for these parameters will be set to nan. Details: \n",
            "ValueError: Solver lbfgs supports only 'l2' or 'none' penalties, got l1 penalty.\n",
            "\n",
            "  FitFailedWarning)\n",
            "/usr/local/lib/python3.7/dist-packages/sklearn/model_selection/_validation.py:536: FitFailedWarning: Estimator fit failed. The score on this train-test partition for these parameters will be set to nan. Details: \n",
            "ValueError: Solver lbfgs supports only 'l2' or 'none' penalties, got l1 penalty.\n",
            "\n",
            "  FitFailedWarning)\n",
            "/usr/local/lib/python3.7/dist-packages/sklearn/model_selection/_validation.py:536: FitFailedWarning: Estimator fit failed. The score on this train-test partition for these parameters will be set to nan. Details: \n",
            "ValueError: Solver lbfgs supports only 'l2' or 'none' penalties, got l1 penalty.\n",
            "\n",
            "  FitFailedWarning)\n",
            "/usr/local/lib/python3.7/dist-packages/sklearn/model_selection/_validation.py:536: FitFailedWarning: Estimator fit failed. The score on this train-test partition for these parameters will be set to nan. Details: \n",
            "ValueError: Solver lbfgs supports only 'l2' or 'none' penalties, got l1 penalty.\n",
            "\n",
            "  FitFailedWarning)\n",
            "/usr/local/lib/python3.7/dist-packages/sklearn/model_selection/_validation.py:536: FitFailedWarning: Estimator fit failed. The score on this train-test partition for these parameters will be set to nan. Details: \n",
            "ValueError: Solver lbfgs supports only 'l2' or 'none' penalties, got l1 penalty.\n",
            "\n",
            "  FitFailedWarning)\n",
            "/usr/local/lib/python3.7/dist-packages/sklearn/model_selection/_validation.py:536: FitFailedWarning: Estimator fit failed. The score on this train-test partition for these parameters will be set to nan. Details: \n",
            "ValueError: Solver lbfgs supports only 'l2' or 'none' penalties, got l1 penalty.\n",
            "\n",
            "  FitFailedWarning)\n",
            "/usr/local/lib/python3.7/dist-packages/sklearn/model_selection/_validation.py:536: FitFailedWarning: Estimator fit failed. The score on this train-test partition for these parameters will be set to nan. Details: \n",
            "ValueError: Solver lbfgs supports only 'l2' or 'none' penalties, got l1 penalty.\n",
            "\n",
            "  FitFailedWarning)\n"
          ],
          "name": "stderr"
        },
        {
          "output_type": "stream",
          "text": [
            "tuned hpyerparameters :(best parameters)  {'C': 0.01, 'penalty': 'l2'}\n",
            "accuracy : 0.7802030812324929\n"
          ],
          "name": "stdout"
        }
      ]
    },
    {
      "cell_type": "code",
      "metadata": {
        "colab": {
          "base_uri": "https://localhost:8080/"
        },
        "id": "jNQXnZzkrk4n",
        "outputId": "74537b1b-2672-461d-ed73-6cca69bf673e"
      },
      "source": [
        "logreg2=LogisticRegression(C=0.01,penalty=\"l2\")\n",
        "logreg2.fit(X_train,y_train)\n",
        "print(\"score\",logreg2.score(X_train,y_train))"
      ],
      "execution_count": null,
      "outputs": [
        {
          "output_type": "stream",
          "text": [
            "score 0.7785234899328859\n"
          ],
          "name": "stdout"
        }
      ]
    },
    {
      "cell_type": "code",
      "metadata": {
        "colab": {
          "base_uri": "https://localhost:8080/"
        },
        "id": "NA7qQr3ttHlW",
        "outputId": "fe999c21-ffd9-4098-bacc-1468e32a8dda"
      },
      "source": [
        "print(classification_report(y_train, logreg.predict(X_train)))"
      ],
      "execution_count": null,
      "outputs": [
        {
          "output_type": "stream",
          "text": [
            "              precision    recall  f1-score   support\n",
            "\n",
            "           0       0.77      0.93      0.84       766\n",
            "           1       0.81      0.50      0.62       426\n",
            "\n",
            "    accuracy                           0.78      1192\n",
            "   macro avg       0.79      0.72      0.73      1192\n",
            "weighted avg       0.78      0.78      0.76      1192\n",
            "\n"
          ],
          "name": "stdout"
        }
      ]
    },
    {
      "cell_type": "code",
      "metadata": {
        "colab": {
          "base_uri": "https://localhost:8080/"
        },
        "id": "yR5Ufwz0wdek",
        "outputId": "17d2a0ef-2f4f-4df9-ede7-cf9c03d33da2"
      },
      "source": [
        "logreg3=LogisticRegression(C=0.01,penalty=\"l2\")\n",
        "logreg3.fit(X_valid,y_valid)\n",
        "print(\"score\",logreg3.score(X_valid,y_valid))"
      ],
      "execution_count": null,
      "outputs": [
        {
          "output_type": "stream",
          "text": [
            "score 0.7281879194630873\n"
          ],
          "name": "stdout"
        }
      ]
    },
    {
      "cell_type": "code",
      "metadata": {
        "colab": {
          "base_uri": "https://localhost:8080/"
        },
        "id": "I8OdYY-0wdYA",
        "outputId": "52384c91-e32b-4ac5-b83f-eb9c9339b3e0"
      },
      "source": [
        "print(classification_report(y_valid, logreg3.predict(X_valid)))"
      ],
      "execution_count": null,
      "outputs": [
        {
          "output_type": "stream",
          "text": [
            "              precision    recall  f1-score   support\n",
            "\n",
            "           0       0.71      0.98      0.82       192\n",
            "           1       0.90      0.26      0.41       106\n",
            "\n",
            "    accuracy                           0.73       298\n",
            "   macro avg       0.81      0.62      0.62       298\n",
            "weighted avg       0.78      0.73      0.68       298\n",
            "\n"
          ],
          "name": "stdout"
        }
      ]
    },
    {
      "cell_type": "markdown",
      "metadata": {
        "id": "gn74omb7OQ0o"
      },
      "source": [
        "## Generate the output\n",
        "\n",
        "The last thing we do is generating a file that should be *submitted* on kaggle"
      ]
    },
    {
      "cell_type": "code",
      "metadata": {
        "id": "n43fvIXOZUO_"
      },
      "source": [
        "test_id = test_df[\"Customer\"]\n",
        "test_pred = best_AdaBoost.predict(X_test)\n",
        "\n"
      ],
      "execution_count": null,
      "outputs": []
    },
    {
      "cell_type": "code",
      "metadata": {
        "id": "nIV_C5dNZrGd"
      },
      "source": [
        "submission = pd.DataFrame(list(zip(test_id, test_pred)), columns=[\"Customer\", \"TravelInsurance\"])\n",
        "submission.to_csv(\"travel_insurance_submission.csv\", header=True, index=False)"
      ],
      "execution_count": null,
      "outputs": []
    }
  ]
}