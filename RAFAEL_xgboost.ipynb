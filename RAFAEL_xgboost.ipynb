{
  "nbformat": 4,
  "nbformat_minor": 0,
  "metadata": {
    "kernelspec": {
      "language": "python",
      "display_name": "Python 3",
      "name": "python3"
    },
    "language_info": {
      "name": "python",
      "version": "3.7.10",
      "mimetype": "text/x-python",
      "codemirror_mode": {
        "name": "ipython",
        "version": 3
      },
      "pygments_lexer": "ipython3",
      "nbconvert_exporter": "python",
      "file_extension": ".py"
    },
    "colab": {
      "name": "RAFAEL_xgboost.ipynb",
      "provenance": [],
      "include_colab_link": true
    }
  },
  "cells": [
    {
      "cell_type": "markdown",
      "metadata": {
        "id": "view-in-github",
        "colab_type": "text"
      },
      "source": [
        "<a href=\"https://colab.research.google.com/github/rafaborneo/kaggle-competition/blob/main/RAFAEL_xgboost.ipynb\" target=\"_parent\"><img src=\"https://colab.research.google.com/assets/colab-badge.svg\" alt=\"Open In Colab\"/></a>"
      ]
    },
    {
      "cell_type": "code",
      "metadata": {
        "_kg_hide-input": true,
        "execution": {
          "iopub.status.busy": "2021-08-24T22:30:59.466625Z",
          "iopub.execute_input": "2021-08-24T22:30:59.467173Z",
          "iopub.status.idle": "2021-08-24T22:31:00.389792Z",
          "shell.execute_reply.started": "2021-08-24T22:30:59.467085Z",
          "shell.execute_reply": "2021-08-24T22:31:00.388922Z"
        },
        "trusted": true,
        "id": "gcD544LSTPum"
      },
      "source": [
        "import pandas as pd\n",
        "import numpy as np\n",
        "import matplotlib.pyplot as plt\n",
        "import seaborn as sns\n",
        "import warnings\n",
        "warnings.simplefilter(action='ignore', category=FutureWarning)"
      ],
      "execution_count": null,
      "outputs": []
    },
    {
      "cell_type": "code",
      "metadata": {
        "execution": {
          "iopub.status.busy": "2021-08-24T22:31:00.411114Z",
          "iopub.execute_input": "2021-08-24T22:31:00.411369Z",
          "iopub.status.idle": "2021-08-24T22:31:00.431619Z",
          "shell.execute_reply.started": "2021-08-24T22:31:00.411345Z",
          "shell.execute_reply": "2021-08-24T22:31:00.430755Z"
        },
        "trusted": true,
        "id": "ddWr9JD5TPun"
      },
      "source": [
        "df = pd.read_csv(\"travel_insurance_prediction_train.csv\")"
      ],
      "execution_count": null,
      "outputs": []
    },
    {
      "cell_type": "markdown",
      "metadata": {
        "id": "mSF4kOg6TPun"
      },
      "source": [
        "Let's take a first look on the data:"
      ]
    },
    {
      "cell_type": "code",
      "metadata": {
        "execution": {
          "iopub.status.busy": "2021-08-24T22:31:00.432916Z",
          "iopub.execute_input": "2021-08-24T22:31:00.433164Z",
          "iopub.status.idle": "2021-08-24T22:31:00.460734Z",
          "shell.execute_reply.started": "2021-08-24T22:31:00.433139Z",
          "shell.execute_reply": "2021-08-24T22:31:00.459886Z"
        },
        "trusted": true,
        "id": "A8L78f_DTPuo",
        "colab": {
          "base_uri": "https://localhost:8080/",
          "height": 378
        },
        "outputId": "ec06c746-5589-4a86-80f0-61fd65bc13da"
      },
      "source": [
        "df.head()"
      ],
      "execution_count": null,
      "outputs": [
        {
          "output_type": "execute_result",
          "data": {
            "text/html": [
              "<div>\n",
              "<style scoped>\n",
              "    .dataframe tbody tr th:only-of-type {\n",
              "        vertical-align: middle;\n",
              "    }\n",
              "\n",
              "    .dataframe tbody tr th {\n",
              "        vertical-align: top;\n",
              "    }\n",
              "\n",
              "    .dataframe thead th {\n",
              "        text-align: right;\n",
              "    }\n",
              "</style>\n",
              "<table border=\"1\" class=\"dataframe\">\n",
              "  <thead>\n",
              "    <tr style=\"text-align: right;\">\n",
              "      <th></th>\n",
              "      <th>Customer</th>\n",
              "      <th>Age</th>\n",
              "      <th>Employment Type</th>\n",
              "      <th>GraduateOrNot</th>\n",
              "      <th>AnnualIncome</th>\n",
              "      <th>FamilyMembers</th>\n",
              "      <th>ChronicDiseases</th>\n",
              "      <th>FrequentFlyer</th>\n",
              "      <th>EverTravelledAbroad</th>\n",
              "      <th>TravelInsurance</th>\n",
              "    </tr>\n",
              "  </thead>\n",
              "  <tbody>\n",
              "    <tr>\n",
              "      <th>0</th>\n",
              "      <td>1</td>\n",
              "      <td>33</td>\n",
              "      <td>Private Sector/Self Employed</td>\n",
              "      <td>Yes</td>\n",
              "      <td>550000</td>\n",
              "      <td>6</td>\n",
              "      <td>0</td>\n",
              "      <td>No</td>\n",
              "      <td>No</td>\n",
              "      <td>1</td>\n",
              "    </tr>\n",
              "    <tr>\n",
              "      <th>1</th>\n",
              "      <td>2</td>\n",
              "      <td>28</td>\n",
              "      <td>Private Sector/Self Employed</td>\n",
              "      <td>Yes</td>\n",
              "      <td>800000</td>\n",
              "      <td>7</td>\n",
              "      <td>0</td>\n",
              "      <td>Yes</td>\n",
              "      <td>No</td>\n",
              "      <td>0</td>\n",
              "    </tr>\n",
              "    <tr>\n",
              "      <th>2</th>\n",
              "      <td>3</td>\n",
              "      <td>31</td>\n",
              "      <td>Private Sector/Self Employed</td>\n",
              "      <td>Yes</td>\n",
              "      <td>1250000</td>\n",
              "      <td>4</td>\n",
              "      <td>0</td>\n",
              "      <td>No</td>\n",
              "      <td>No</td>\n",
              "      <td>0</td>\n",
              "    </tr>\n",
              "    <tr>\n",
              "      <th>3</th>\n",
              "      <td>4</td>\n",
              "      <td>31</td>\n",
              "      <td>Government Sector</td>\n",
              "      <td>No</td>\n",
              "      <td>300000</td>\n",
              "      <td>7</td>\n",
              "      <td>0</td>\n",
              "      <td>No</td>\n",
              "      <td>No</td>\n",
              "      <td>0</td>\n",
              "    </tr>\n",
              "    <tr>\n",
              "      <th>4</th>\n",
              "      <td>5</td>\n",
              "      <td>28</td>\n",
              "      <td>Private Sector/Self Employed</td>\n",
              "      <td>Yes</td>\n",
              "      <td>1250000</td>\n",
              "      <td>3</td>\n",
              "      <td>0</td>\n",
              "      <td>No</td>\n",
              "      <td>No</td>\n",
              "      <td>0</td>\n",
              "    </tr>\n",
              "  </tbody>\n",
              "</table>\n",
              "</div>"
            ],
            "text/plain": [
              "   Customer  Age  ... EverTravelledAbroad TravelInsurance\n",
              "0         1   33  ...                  No               1\n",
              "1         2   28  ...                  No               0\n",
              "2         3   31  ...                  No               0\n",
              "3         4   31  ...                  No               0\n",
              "4         5   28  ...                  No               0\n",
              "\n",
              "[5 rows x 10 columns]"
            ]
          },
          "metadata": {},
          "execution_count": 122
        }
      ]
    },
    {
      "cell_type": "markdown",
      "metadata": {
        "id": "_kzvlOVATPup"
      },
      "source": [
        "# EDA"
      ]
    },
    {
      "cell_type": "code",
      "metadata": {
        "_kg_hide-input": true,
        "execution": {
          "iopub.status.busy": "2021-08-24T22:31:00.470242Z",
          "iopub.execute_input": "2021-08-24T22:31:00.470542Z",
          "iopub.status.idle": "2021-08-24T22:31:00.487161Z",
          "shell.execute_reply.started": "2021-08-24T22:31:00.470516Z",
          "shell.execute_reply": "2021-08-24T22:31:00.485975Z"
        },
        "trusted": true,
        "id": "XpZKO75_TPup",
        "colab": {
          "base_uri": "https://localhost:8080/"
        },
        "outputId": "209ef69b-379b-4d41-d570-b0e5080fd483"
      },
      "source": [
        "df.isnull().sum()"
      ],
      "execution_count": null,
      "outputs": [
        {
          "output_type": "execute_result",
          "data": {
            "text/plain": [
              "Customer               0\n",
              "Age                    0\n",
              "Employment Type        0\n",
              "GraduateOrNot          0\n",
              "AnnualIncome           0\n",
              "FamilyMembers          0\n",
              "ChronicDiseases        0\n",
              "FrequentFlyer          0\n",
              "EverTravelledAbroad    0\n",
              "TravelInsurance        0\n",
              "dtype: int64"
            ]
          },
          "metadata": {},
          "execution_count": 123
        }
      ]
    },
    {
      "cell_type": "markdown",
      "metadata": {
        "id": "Jx97QowHTPuq"
      },
      "source": [
        "Ok, no missing values."
      ]
    },
    {
      "cell_type": "code",
      "metadata": {
        "_kg_hide-input": true,
        "execution": {
          "iopub.status.busy": "2021-08-24T22:31:00.488323Z",
          "iopub.execute_input": "2021-08-24T22:31:00.488723Z",
          "iopub.status.idle": "2021-08-24T22:31:00.499611Z",
          "shell.execute_reply.started": "2021-08-24T22:31:00.488697Z",
          "shell.execute_reply": "2021-08-24T22:31:00.498548Z"
        },
        "trusted": true,
        "id": "ayckjfJcTPuq",
        "colab": {
          "base_uri": "https://localhost:8080/"
        },
        "outputId": "f5876b60-536f-428d-c1c8-5a8ce59fd943"
      },
      "source": [
        "df.TravelInsurance.value_counts()"
      ],
      "execution_count": null,
      "outputs": [
        {
          "output_type": "execute_result",
          "data": {
            "text/plain": [
              "0    958\n",
              "1    532\n",
              "Name: TravelInsurance, dtype: int64"
            ]
          },
          "metadata": {},
          "execution_count": 124
        }
      ]
    },
    {
      "cell_type": "markdown",
      "metadata": {
        "id": "BLUs45EDTPuq"
      },
      "source": [
        "The dataset is imbalanced. Better to do some oversampling later."
      ]
    },
    {
      "cell_type": "code",
      "metadata": {
        "_kg_hide-input": true,
        "execution": {
          "iopub.status.busy": "2021-08-24T22:31:00.502129Z",
          "iopub.execute_input": "2021-08-24T22:31:00.502404Z",
          "iopub.status.idle": "2021-08-24T22:31:01.023198Z",
          "shell.execute_reply.started": "2021-08-24T22:31:00.502377Z",
          "shell.execute_reply": "2021-08-24T22:31:01.022251Z"
        },
        "trusted": true,
        "id": "9to59ELxTPur",
        "colab": {
          "base_uri": "https://localhost:8080/",
          "height": 306
        },
        "outputId": "bff215ea-f46b-4bfe-9583-88cae04610c7"
      },
      "source": [
        "plt.figure(figsize=(40,10))\n",
        "sns.countplot('AnnualIncome',hue='TravelInsurance',data=df)\n",
        "plt.show()"
      ],
      "execution_count": null,
      "outputs": [
        {
          "output_type": "display_data",
          "data": {
            "image/png": "[encoded data removed]",
            "text/plain": [
              "<Figure size 2880x720 with 1 Axes>"
            ]
          },
          "metadata": {
            "needs_background": "light"
          }
        }
      ]
    },
    {
      "cell_type": "markdown",
      "metadata": {
        "id": "cMKYFKtnTPur"
      },
      "source": [
        "mas income mas tendencia a comprar sobre todo por encima de 1350000."
      ]
    },
    {
      "cell_type": "code",
      "metadata": {
        "_kg_hide-input": true,
        "execution": {
          "iopub.status.busy": "2021-08-24T22:31:01.025443Z",
          "iopub.execute_input": "2021-08-24T22:31:01.025744Z",
          "iopub.status.idle": "2021-08-24T22:31:01.156665Z",
          "shell.execute_reply.started": "2021-08-24T22:31:01.025717Z",
          "shell.execute_reply": "2021-08-24T22:31:01.155964Z"
        },
        "trusted": true,
        "id": "v3vSH64gTPus",
        "colab": {
          "base_uri": "https://localhost:8080/",
          "height": 279
        },
        "outputId": "5264f33b-3e7b-48f9-ed0b-3905c53d4e4d"
      },
      "source": [
        "sns.countplot('FrequentFlyer',hue='TravelInsurance',data=df)\n",
        "plt.show()"
      ],
      "execution_count": null,
      "outputs": [
        {
          "output_type": "display_data",
          "data": {
            "image/png": "[encoded data removed]",
            "text/plain": [
              "<Figure size 432x288 with 1 Axes>"
            ]
          },
          "metadata": {
            "needs_background": "light"
          }
        }
      ]
    },
    {
      "cell_type": "markdown",
      "metadata": {
        "id": "6ojGO9kPTPut"
      },
      "source": [
        "Frequent flyers are more likely to take travel insurance."
      ]
    },
    {
      "cell_type": "code",
      "metadata": {
        "_kg_hide-input": true,
        "execution": {
          "iopub.status.busy": "2021-08-24T22:31:01.157911Z",
          "iopub.execute_input": "2021-08-24T22:31:01.158447Z",
          "iopub.status.idle": "2021-08-24T22:31:01.277413Z",
          "shell.execute_reply.started": "2021-08-24T22:31:01.158405Z",
          "shell.execute_reply": "2021-08-24T22:31:01.276716Z"
        },
        "trusted": true,
        "id": "H3Jq8tr5TPut",
        "colab": {
          "base_uri": "https://localhost:8080/",
          "height": 279
        },
        "outputId": "f6ee7967-2b0f-4e53-a57d-6c7000c39e7d"
      },
      "source": [
        "sns.countplot('ChronicDiseases',hue='TravelInsurance',data=df)\n",
        "plt.show()"
      ],
      "execution_count": null,
      "outputs": [
        {
          "output_type": "display_data",
          "data": {
            "image/png": "[encoded data removed]",
            "text/plain": [
              "<Figure size 432x288 with 1 Axes>"
            ]
          },
          "metadata": {
            "needs_background": "light"
          }
        }
      ]
    },
    {
      "cell_type": "markdown",
      "metadata": {
        "id": "X2YkxTfoTPuu"
      },
      "source": [
        "\"ChronicDiseases\" doesnt seem to have much inpact on the target."
      ]
    },
    {
      "cell_type": "code",
      "metadata": {
        "_kg_hide-input": true,
        "execution": {
          "iopub.status.busy": "2021-08-24T22:31:01.278540Z",
          "iopub.execute_input": "2021-08-24T22:31:01.279100Z",
          "iopub.status.idle": "2021-08-24T22:31:01.409164Z",
          "shell.execute_reply.started": "2021-08-24T22:31:01.279059Z",
          "shell.execute_reply": "2021-08-24T22:31:01.408243Z"
        },
        "trusted": true,
        "id": "5DWKH-shTPuu",
        "colab": {
          "base_uri": "https://localhost:8080/",
          "height": 279
        },
        "outputId": "6d6a1e64-23e9-47fe-b6fa-152d236994d4"
      },
      "source": [
        "sns.countplot('EverTravelledAbroad',hue='TravelInsurance',data=df)\n",
        "plt.show()"
      ],
      "execution_count": null,
      "outputs": [
        {
          "output_type": "display_data",
          "data": {
            "image/png": "[encoded data removed]",
            "text/plain": [
              "<Figure size 432x288 with 1 Axes>"
            ]
          },
          "metadata": {
            "needs_background": "light"
          }
        }
      ]
    },
    {
      "cell_type": "markdown",
      "metadata": {
        "id": "7GDEZrdyTPuv"
      },
      "source": [
        "People who has travelled abroad are more likely to take travel insurance."
      ]
    },
    {
      "cell_type": "code",
      "metadata": {
        "_kg_hide-input": true,
        "execution": {
          "iopub.status.busy": "2021-08-24T22:31:01.410407Z",
          "iopub.execute_input": "2021-08-24T22:31:01.410686Z",
          "iopub.status.idle": "2021-08-24T22:31:01.629660Z",
          "shell.execute_reply.started": "2021-08-24T22:31:01.410654Z",
          "shell.execute_reply": "2021-08-24T22:31:01.628668Z"
        },
        "trusted": true,
        "id": "ViDjso1ZTPuv",
        "colab": {
          "base_uri": "https://localhost:8080/",
          "height": 279
        },
        "outputId": "7566dc92-642c-4c34-e187-434625cc9a58"
      },
      "source": [
        "sns.countplot('Age',hue='TravelInsurance',data=df)\n",
        "plt.show()"
      ],
      "execution_count": null,
      "outputs": [
        {
          "output_type": "display_data",
          "data": {
            "image/png": "[encoded data removed]",
            "text/plain": [
              "<Figure size 432x288 with 1 Axes>"
            ]
          },
          "metadata": {
            "needs_background": "light"
          }
        }
      ]
    },
    {
      "cell_type": "markdown",
      "metadata": {
        "id": "ABl6IrRKTPux"
      },
      "source": [
        "People older that 33 usually take travel insurance. Take that for feature engineering."
      ]
    },
    {
      "cell_type": "code",
      "metadata": {
        "_kg_hide-input": true,
        "execution": {
          "iopub.status.busy": "2021-08-24T22:31:01.630958Z",
          "iopub.execute_input": "2021-08-24T22:31:01.631316Z",
          "iopub.status.idle": "2021-08-24T22:31:01.926478Z",
          "shell.execute_reply.started": "2021-08-24T22:31:01.631277Z",
          "shell.execute_reply": "2021-08-24T22:31:01.925412Z"
        },
        "trusted": true,
        "id": "W3vN1KIpTPux",
        "colab": {
          "base_uri": "https://localhost:8080/",
          "height": 279
        },
        "outputId": "bfd1db9c-9ac1-4f13-c8a2-ac94a4adc093"
      },
      "source": [
        "sns.countplot('FamilyMembers',hue='TravelInsurance',data=df)\n",
        "plt.show()"
      ],
      "execution_count": null,
      "outputs": [
        {
          "output_type": "display_data",
          "data": {
            "image/png": "[encoded data removed]",
            "text/plain": [
              "<Figure size 432x288 with 1 Axes>"
            ]
          },
          "metadata": {
            "needs_background": "light"
          }
        }
      ]
    },
    {
      "cell_type": "code",
      "metadata": {
        "execution": {
          "iopub.status.busy": "2021-08-24T22:31:01.927611Z",
          "iopub.execute_input": "2021-08-24T22:31:01.927886Z",
          "iopub.status.idle": "2021-08-24T22:31:02.050499Z",
          "shell.execute_reply.started": "2021-08-24T22:31:01.927855Z",
          "shell.execute_reply": "2021-08-24T22:31:02.049491Z"
        },
        "trusted": true,
        "id": "vQmVQZkmTPuy",
        "colab": {
          "base_uri": "https://localhost:8080/",
          "height": 279
        },
        "outputId": "447ae87c-79b5-4bc3-f897-58e05a88a1f4"
      },
      "source": [
        "sns.countplot('GraduateOrNot',hue='TravelInsurance',data=df)\n",
        "plt.show()"
      ],
      "execution_count": null,
      "outputs": [
        {
          "output_type": "display_data",
          "data": {
            "image/png": "[encoded data removed]",
            "text/plain": [
              "<Figure size 432x288 with 1 Axes>"
            ]
          },
          "metadata": {
            "needs_background": "light"
          }
        }
      ]
    },
    {
      "cell_type": "markdown",
      "metadata": {
        "id": "RVm_qO9UTPuy"
      },
      "source": [
        "# Feature engineering"
      ]
    },
    {
      "cell_type": "markdown",
      "metadata": {
        "id": "amJ6DH2DTPuz"
      },
      "source": [
        "We will use np.select to create categorical features."
      ]
    },
    {
      "cell_type": "code",
      "metadata": {
        "execution": {
          "iopub.status.busy": "2021-08-24T22:31:02.051630Z",
          "iopub.execute_input": "2021-08-24T22:31:02.051901Z",
          "iopub.status.idle": "2021-08-24T22:31:02.057182Z",
          "shell.execute_reply.started": "2021-08-24T22:31:02.051874Z",
          "shell.execute_reply": "2021-08-24T22:31:02.056275Z"
        },
        "trusted": true,
        "id": "ksnAuH78TPuz"
      },
      "source": [
        "# Creating a numpy array of Age values \n",
        "x = df['Age'].values\n",
        "# List of new categories\n",
        "cat = [0, 1]\n",
        "# New column based on certain conditions\n",
        "df['AgeCategory']=np.select([x<=32, x>32],cat)"
      ],
      "execution_count": null,
      "outputs": []
    },
    {
      "cell_type": "code",
      "metadata": {
        "execution": {
          "iopub.status.busy": "2021-08-24T22:31:02.058381Z",
          "iopub.execute_input": "2021-08-24T22:31:02.058651Z",
          "iopub.status.idle": "2021-08-24T22:31:02.076914Z",
          "shell.execute_reply.started": "2021-08-24T22:31:02.058622Z",
          "shell.execute_reply": "2021-08-24T22:31:02.076049Z"
        },
        "trusted": true,
        "id": "RckQ_nxDTPu0"
      },
      "source": [
        "x = df['AnnualIncome'].values\n",
        "cat = [0, 1]\n",
        "df['AnnualCategory']=np.select([x<=1300000, x>1300000],cat)"
      ],
      "execution_count": null,
      "outputs": []
    },
    {
      "cell_type": "markdown",
      "metadata": {
        "id": "8qZav3Q9TPu0"
      },
      "source": [
        "Replace words with 0/1 categories."
      ]
    },
    {
      "cell_type": "code",
      "metadata": {
        "execution": {
          "iopub.status.busy": "2021-08-24T22:31:02.078116Z",
          "iopub.execute_input": "2021-08-24T22:31:02.078486Z",
          "iopub.status.idle": "2021-08-24T22:31:02.098973Z",
          "shell.execute_reply.started": "2021-08-24T22:31:02.078448Z",
          "shell.execute_reply": "2021-08-24T22:31:02.098090Z"
        },
        "trusted": true,
        "id": "mOVIiz89TPu0"
      },
      "source": [
        "df['Employment Type'].replace({'Private Sector/Self Employed':0, 'Government Sector':1},inplace=True)\n",
        "df['GraduateOrNot'].replace({'No':0, 'Yes':1},inplace=True)\n",
        "df['FrequentFlyer'].replace({'No':0, 'Yes':1},inplace=True)\n",
        "df['EverTravelledAbroad'].replace({'No':0, 'Yes':1},inplace=True)"
      ],
      "execution_count": null,
      "outputs": []
    },
    {
      "cell_type": "markdown",
      "metadata": {
        "id": "EloYyaQPTPu1"
      },
      "source": [
        "We no more in need of those columns:"
      ]
    },
    {
      "cell_type": "code",
      "metadata": {
        "execution": {
          "iopub.status.busy": "2021-08-24T22:31:02.100333Z",
          "iopub.execute_input": "2021-08-24T22:31:02.100604Z",
          "iopub.status.idle": "2021-08-24T22:31:02.114267Z",
          "shell.execute_reply.started": "2021-08-24T22:31:02.100570Z",
          "shell.execute_reply": "2021-08-24T22:31:02.113542Z"
        },
        "trusted": true,
        "id": "XEYz7F9ATPu1"
      },
      "source": [
        "df_use = df.drop(columns=[\"AnnualIncome\", \"Age\"])"
      ],
      "execution_count": null,
      "outputs": []
    },
    {
      "cell_type": "code",
      "metadata": {
        "execution": {
          "iopub.status.busy": "2021-08-24T22:31:02.115488Z",
          "iopub.execute_input": "2021-08-24T22:31:02.115918Z",
          "iopub.status.idle": "2021-08-24T22:31:02.134719Z",
          "shell.execute_reply.started": "2021-08-24T22:31:02.115877Z",
          "shell.execute_reply": "2021-08-24T22:31:02.133845Z"
        },
        "trusted": true,
        "id": "Un-JODB5TPu2",
        "colab": {
          "base_uri": "https://localhost:8080/",
          "height": 243
        },
        "outputId": "8ca03ba8-671b-4ceb-c557-3dbfe595b732"
      },
      "source": [
        "df_use.head()"
      ],
      "execution_count": null,
      "outputs": [
        {
          "output_type": "execute_result",
          "data": {
            "text/html": [
              "<div>\n",
              "<style scoped>\n",
              "    .dataframe tbody tr th:only-of-type {\n",
              "        vertical-align: middle;\n",
              "    }\n",
              "\n",
              "    .dataframe tbody tr th {\n",
              "        vertical-align: top;\n",
              "    }\n",
              "\n",
              "    .dataframe thead th {\n",
              "        text-align: right;\n",
              "    }\n",
              "</style>\n",
              "<table border=\"1\" class=\"dataframe\">\n",
              "  <thead>\n",
              "    <tr style=\"text-align: right;\">\n",
              "      <th></th>\n",
              "      <th>Customer</th>\n",
              "      <th>Employment Type</th>\n",
              "      <th>GraduateOrNot</th>\n",
              "      <th>FamilyMembers</th>\n",
              "      <th>ChronicDiseases</th>\n",
              "      <th>FrequentFlyer</th>\n",
              "      <th>EverTravelledAbroad</th>\n",
              "      <th>TravelInsurance</th>\n",
              "      <th>AgeCategory</th>\n",
              "      <th>AnnualCategory</th>\n",
              "    </tr>\n",
              "  </thead>\n",
              "  <tbody>\n",
              "    <tr>\n",
              "      <th>0</th>\n",
              "      <td>1</td>\n",
              "      <td>0</td>\n",
              "      <td>1</td>\n",
              "      <td>6</td>\n",
              "      <td>0</td>\n",
              "      <td>0</td>\n",
              "      <td>0</td>\n",
              "      <td>1</td>\n",
              "      <td>1</td>\n",
              "      <td>0</td>\n",
              "    </tr>\n",
              "    <tr>\n",
              "      <th>1</th>\n",
              "      <td>2</td>\n",
              "      <td>0</td>\n",
              "      <td>1</td>\n",
              "      <td>7</td>\n",
              "      <td>0</td>\n",
              "      <td>1</td>\n",
              "      <td>0</td>\n",
              "      <td>0</td>\n",
              "      <td>0</td>\n",
              "      <td>0</td>\n",
              "    </tr>\n",
              "    <tr>\n",
              "      <th>2</th>\n",
              "      <td>3</td>\n",
              "      <td>0</td>\n",
              "      <td>1</td>\n",
              "      <td>4</td>\n",
              "      <td>0</td>\n",
              "      <td>0</td>\n",
              "      <td>0</td>\n",
              "      <td>0</td>\n",
              "      <td>0</td>\n",
              "      <td>0</td>\n",
              "    </tr>\n",
              "    <tr>\n",
              "      <th>3</th>\n",
              "      <td>4</td>\n",
              "      <td>1</td>\n",
              "      <td>0</td>\n",
              "      <td>7</td>\n",
              "      <td>0</td>\n",
              "      <td>0</td>\n",
              "      <td>0</td>\n",
              "      <td>0</td>\n",
              "      <td>0</td>\n",
              "      <td>0</td>\n",
              "    </tr>\n",
              "    <tr>\n",
              "      <th>4</th>\n",
              "      <td>5</td>\n",
              "      <td>0</td>\n",
              "      <td>1</td>\n",
              "      <td>3</td>\n",
              "      <td>0</td>\n",
              "      <td>0</td>\n",
              "      <td>0</td>\n",
              "      <td>0</td>\n",
              "      <td>0</td>\n",
              "      <td>0</td>\n",
              "    </tr>\n",
              "  </tbody>\n",
              "</table>\n",
              "</div>"
            ],
            "text/plain": [
              "   Customer  Employment Type  ...  AgeCategory  AnnualCategory\n",
              "0         1                0  ...            1               0\n",
              "1         2                0  ...            0               0\n",
              "2         3                0  ...            0               0\n",
              "3         4                1  ...            0               0\n",
              "4         5                0  ...            0               0\n",
              "\n",
              "[5 rows x 10 columns]"
            ]
          },
          "metadata": {},
          "execution_count": 136
        }
      ]
    },
    {
      "cell_type": "markdown",
      "metadata": {
        "id": "nfLYKoZdTPu3"
      },
      "source": [
        "# Data preprocessing"
      ]
    },
    {
      "cell_type": "code",
      "metadata": {
        "execution": {
          "iopub.status.busy": "2021-08-24T22:31:02.135860Z",
          "iopub.execute_input": "2021-08-24T22:31:02.136113Z",
          "iopub.status.idle": "2021-08-24T22:31:02.147643Z",
          "shell.execute_reply.started": "2021-08-24T22:31:02.136088Z",
          "shell.execute_reply": "2021-08-24T22:31:02.146925Z"
        },
        "trusted": true,
        "id": "FEytsNDcTPu3"
      },
      "source": [
        "X = df_use.drop(columns=[\"TravelInsurance\"])\n",
        "y = df_use.TravelInsurance"
      ],
      "execution_count": null,
      "outputs": []
    },
    {
      "cell_type": "markdown",
      "metadata": {
        "id": "4zCXAtZiTPu4"
      },
      "source": [
        "Let's do oversampling to create a balanced dataset."
      ]
    },
    {
      "cell_type": "code",
      "metadata": {
        "execution": {
          "iopub.status.busy": "2021-08-24T22:31:02.149190Z",
          "iopub.execute_input": "2021-08-24T22:31:02.149552Z",
          "iopub.status.idle": "2021-08-24T22:31:02.164260Z",
          "shell.execute_reply.started": "2021-08-24T22:31:02.149513Z",
          "shell.execute_reply": "2021-08-24T22:31:02.163456Z"
        },
        "trusted": true,
        "id": "SFKToaYYTPu4"
      },
      "source": [
        "X_imbalanced = np.vstack((X[y == 1], X[y == 0][:30]))\n",
        "y_imbalanced = np.hstack((y[y == 1], y[y == 0][:30]))"
      ],
      "execution_count": null,
      "outputs": []
    },
    {
      "cell_type": "code",
      "metadata": {
        "execution": {
          "iopub.status.busy": "2021-08-24T22:31:02.165646Z",
          "iopub.execute_input": "2021-08-24T22:31:02.166294Z",
          "iopub.status.idle": "2021-08-24T22:31:02.270516Z",
          "shell.execute_reply.started": "2021-08-24T22:31:02.166254Z",
          "shell.execute_reply": "2021-08-24T22:31:02.269839Z"
        },
        "trusted": true,
        "id": "3bVobv2ATPu4"
      },
      "source": [
        "from sklearn.utils import resample\n",
        "\n",
        "# Create oversampled training data set for minority class\n",
        "X_oversampled, y_oversampled = resample(X_imbalanced[y_imbalanced == 0],\n",
        "                                        y_imbalanced[y_imbalanced == 0],\n",
        "                                        replace=True,\n",
        "                                        n_samples=X_imbalanced[y_imbalanced == 1].shape[0],\n",
        "                                        random_state=123)\n",
        "\n",
        "# Append the oversampled minority class to training data and related labels\n",
        "X_balanced = np.vstack((X[y == 1], X_oversampled))\n",
        "y_balanced = np.hstack((y[y == 1], y_oversampled))"
      ],
      "execution_count": null,
      "outputs": []
    },
    {
      "cell_type": "code",
      "metadata": {
        "execution": {
          "iopub.status.busy": "2021-08-24T22:31:02.273675Z",
          "iopub.execute_input": "2021-08-24T22:31:02.274228Z",
          "iopub.status.idle": "2021-08-24T22:31:02.353342Z",
          "shell.execute_reply.started": "2021-08-24T22:31:02.274175Z",
          "shell.execute_reply": "2021-08-24T22:31:02.352358Z"
        },
        "trusted": true,
        "id": "fcQb5ZTBTPu5"
      },
      "source": [
        "from sklearn.model_selection import train_test_split, GridSearchCV\n",
        "X_train, X_test, y_train, y_test = train_test_split(X_balanced, y_balanced, test_size=0.3, random_state=42)\n",
        "X_train1, X_test1, y_train1, y_test1 = train_test_split(X_imbalanced, y_imbalanced, test_size=0.3, random_state=42)"
      ],
      "execution_count": null,
      "outputs": []
    },
    {
      "cell_type": "markdown",
      "metadata": {
        "id": "hJA-vhRnTPu5"
      },
      "source": [
        "# Model learning"
      ]
    },
    {
      "cell_type": "code",
      "metadata": {
        "_kg_hide-output": true,
        "_kg_hide-input": true,
        "execution": {
          "iopub.status.busy": "2021-08-24T22:31:02.354786Z",
          "iopub.execute_input": "2021-08-24T22:31:02.355162Z",
          "iopub.status.idle": "2021-08-24T22:31:05.659599Z",
          "shell.execute_reply.started": "2021-08-24T22:31:02.355124Z",
          "shell.execute_reply": "2021-08-24T22:31:05.658673Z"
        },
        "trusted": true,
        "id": "25SWNLuyTPu6",
        "colab": {
          "base_uri": "https://localhost:8080/"
        },
        "outputId": "4afd7381-b9ff-4562-bc0a-c4379b40d44f"
      },
      "source": [
        "from xgboost import XGBClassifier\n",
        "parameters = {'alpha': (0.1, 10), 'max_depth': (5, 10), 'learning_rate': (0.1, 1)}\n",
        "clf = GridSearchCV(XGBClassifier(), parameters)\n",
        "clf.fit(X_train, y_train)"
      ],
      "execution_count": null,
      "outputs": [
        {
          "output_type": "execute_result",
          "data": {
            "text/plain": [
              "GridSearchCV(cv=None, error_score=nan,\n",
              "             estimator=XGBClassifier(base_score=0.5, booster='gbtree',\n",
              "                                     colsample_bylevel=1, colsample_bynode=1,\n",
              "                                     colsample_bytree=1, gamma=0,\n",
              "                                     learning_rate=0.1, max_delta_step=0,\n",
              "                                     max_depth=3, min_child_weight=1,\n",
              "                                     missing=None, n_estimators=100, n_jobs=1,\n",
              "                                     nthread=None, objective='binary:logistic',\n",
              "                                     random_state=0, reg_alpha=0, reg_lambda=1,\n",
              "                                     scale_pos_weight=1, seed=None, silent=None,\n",
              "                                     subsample=1, verbosity=1),\n",
              "             iid='deprecated', n_jobs=None,\n",
              "             param_grid={'alpha': (0.1, 10), 'learning_rate': (0.1, 1),\n",
              "                         'max_depth': (5, 10)},\n",
              "             pre_dispatch='2*n_jobs', refit=True, return_train_score=False,\n",
              "             scoring=None, verbose=0)"
            ]
          },
          "metadata": {},
          "execution_count": 142
        }
      ]
    },
    {
      "cell_type": "code",
      "metadata": {
        "colab": {
          "base_uri": "https://localhost:8080/"
        },
        "id": "RSKBi-W4fkJp",
        "outputId": "db6ed712-a2a5-4bc5-af4c-11201f0ffca6"
      },
      "source": [
        "from xgboost import XGBClassifier\n",
        "parameters = {'alpha': (0.1, 10), 'max_depth': (5, 10), 'learning_rate': (0.1, 1)}\n",
        "clfNB = GridSearchCV(XGBClassifier(), parameters)\n",
        "clfNB.fit(X_train1, y_train1)"
      ],
      "execution_count": null,
      "outputs": [
        {
          "output_type": "execute_result",
          "data": {
            "text/plain": [
              "GridSearchCV(cv=None, error_score=nan,\n",
              "             estimator=XGBClassifier(base_score=0.5, booster='gbtree',\n",
              "                                     colsample_bylevel=1, colsample_bynode=1,\n",
              "                                     colsample_bytree=1, gamma=0,\n",
              "                                     learning_rate=0.1, max_delta_step=0,\n",
              "                                     max_depth=3, min_child_weight=1,\n",
              "                                     missing=None, n_estimators=100, n_jobs=1,\n",
              "                                     nthread=None, objective='binary:logistic',\n",
              "                                     random_state=0, reg_alpha=0, reg_lambda=1,\n",
              "                                     scale_pos_weight=1, seed=None, silent=None,\n",
              "                                     subsample=1, verbosity=1),\n",
              "             iid='deprecated', n_jobs=None,\n",
              "             param_grid={'alpha': (0.1, 10), 'learning_rate': (0.1, 1),\n",
              "                         'max_depth': (5, 10)},\n",
              "             pre_dispatch='2*n_jobs', refit=True, return_train_score=False,\n",
              "             scoring=None, verbose=0)"
            ]
          },
          "metadata": {},
          "execution_count": 162
        }
      ]
    },
    {
      "cell_type": "code",
      "metadata": {
        "execution": {
          "iopub.status.busy": "2021-08-24T22:31:05.660788Z",
          "iopub.execute_input": "2021-08-24T22:31:05.661115Z",
          "iopub.status.idle": "2021-08-24T22:31:05.669424Z",
          "shell.execute_reply.started": "2021-08-24T22:31:05.661087Z",
          "shell.execute_reply": "2021-08-24T22:31:05.667480Z"
        },
        "trusted": true,
        "id": "2sYijnsTTPu7",
        "colab": {
          "base_uri": "https://localhost:8080/"
        },
        "outputId": "f7a77998-4140-4d25-d394-a5710d4db1a6"
      },
      "source": [
        "clf.best_params_\n"
      ],
      "execution_count": null,
      "outputs": [
        {
          "output_type": "execute_result",
          "data": {
            "text/plain": [
              "{'alpha': 0.1, 'learning_rate': 1, 'max_depth': 5}"
            ]
          },
          "metadata": {},
          "execution_count": 164
        }
      ]
    },
    {
      "cell_type": "code",
      "metadata": {
        "colab": {
          "base_uri": "https://localhost:8080/"
        },
        "id": "sdgil4Rsfzv1",
        "outputId": "8428a137-a7fa-4af4-f36d-4016c0e91e51"
      },
      "source": [
        "clfNB.best_params_"
      ],
      "execution_count": null,
      "outputs": [
        {
          "output_type": "execute_result",
          "data": {
            "text/plain": [
              "{'alpha': 0.1, 'learning_rate': 0.1, 'max_depth': 5}"
            ]
          },
          "metadata": {},
          "execution_count": 165
        }
      ]
    },
    {
      "cell_type": "code",
      "metadata": {
        "colab": {
          "base_uri": "https://localhost:8080/"
        },
        "id": "Mfwuop1QY-2o",
        "outputId": "031a3617-1b4c-46b8-ea32-c8257666b7e5"
      },
      "source": [
        "print(classification_report(y_test, xgb.predict(X_test)))"
      ],
      "execution_count": null,
      "outputs": [
        {
          "output_type": "stream",
          "text": [
            "              precision    recall  f1-score   support\n",
            "\n",
            "           0       0.97      1.00      0.99       152\n",
            "           1       1.00      0.98      0.99       168\n",
            "\n",
            "    accuracy                           0.99       320\n",
            "   macro avg       0.99      0.99      0.99       320\n",
            "weighted avg       0.99      0.99      0.99       320\n",
            "\n"
          ],
          "name": "stdout"
        }
      ]
    },
    {
      "cell_type": "code",
      "metadata": {
        "colab": {
          "base_uri": "https://localhost:8080/"
        },
        "id": "TeAsYR7IgIFv",
        "outputId": "cb35ff5b-a220-4d6c-a97c-c5e92aed242d"
      },
      "source": [
        "print(classification_report(y_test1, xgb.predict(X_test1)))"
      ],
      "execution_count": null,
      "outputs": [
        {
          "output_type": "stream",
          "text": [
            "              precision    recall  f1-score   support\n",
            "\n",
            "           0       0.87      1.00      0.93        13\n",
            "           1       1.00      0.99      0.99       156\n",
            "\n",
            "    accuracy                           0.99       169\n",
            "   macro avg       0.93      0.99      0.96       169\n",
            "weighted avg       0.99      0.99      0.99       169\n",
            "\n"
          ],
          "name": "stdout"
        }
      ]
    },
    {
      "cell_type": "code",
      "metadata": {
        "execution": {
          "iopub.status.busy": "2021-08-24T22:31:05.717272Z",
          "iopub.execute_input": "2021-08-24T22:31:05.718733Z",
          "iopub.status.idle": "2021-08-24T22:31:05.886794Z",
          "shell.execute_reply.started": "2021-08-24T22:31:05.717652Z",
          "shell.execute_reply": "2021-08-24T22:31:05.885811Z"
        },
        "trusted": true,
        "id": "Z5ApVmFhTPu8",
        "colab": {
          "base_uri": "https://localhost:8080/",
          "height": 279
        },
        "outputId": "df6cddb9-8e20-4128-9cc8-7e644b5a6c39"
      },
      "source": [
        "plot_confusion_matrix(xgb, X_test, y_test)  \n",
        "plt.show() "
      ],
      "execution_count": null,
      "outputs": [
        {
          "output_type": "display_data",
          "data": {
            "image/png": "[encoded data removed]",
            "text/plain": [
              "<Figure size 432x288 with 2 Axes>"
            ]
          },
          "metadata": {
            "needs_background": "light"
          }
        }
      ]
    },
    {
      "cell_type": "code",
      "metadata": {
        "colab": {
          "base_uri": "https://localhost:8080/",
          "height": 279
        },
        "id": "64JBckKNaRuq",
        "outputId": "9b7eaa24-2beb-419e-b08a-ded677c4b278"
      },
      "source": [
        "plot_confusion_matrix(xgb, X_test1, y_test1)  \n",
        "plt.show()"
      ],
      "execution_count": null,
      "outputs": [
        {
          "output_type": "display_data",
          "data": {
            "image/png": "[encoded data removed]",
            "text/plain": [
              "<Figure size 432x288 with 2 Axes>"
            ]
          },
          "metadata": {
            "needs_background": "light"
          }
        }
      ]
    },
    {
      "cell_type": "code",
      "metadata": {
        "id": "AUuwq8q_atlo"
      },
      "source": [
        ""
      ],
      "execution_count": null,
      "outputs": []
    }
  ]
}